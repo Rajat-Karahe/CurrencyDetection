{
  "nbformat": 4,
  "nbformat_minor": 0,
  "metadata": {
    "colab": {
      "name": "CurrencyDetection_MobileNet_v2(Update01).ipynb",
      "provenance": [],
      "mount_file_id": "1HBTU8e4KfKe00a7gUZjYBlxYa_Yvy4rv",
      "authorship_tag": "ABX9TyOvfhNnuOLW2KOghEpqmDsL"
    },
    "kernelspec": {
      "name": "python3",
      "display_name": "Python 3"
    },
    "accelerator": "GPU"
  },
  "cells": [
    {
      "cell_type": "code",
      "metadata": {
        "id": "yq4Ys5YV2MXs",
        "colab_type": "code",
        "colab": {}
      },
      "source": [
        "import copy\n",
        "import numpy as np\n",
        "import matplotlib.pyplot as plt\n",
        "\n",
        "import torch\n",
        "import torch.nn as nn\n",
        "import torch.optim as optim\n",
        "from torch.optim import lr_scheduler\n",
        "\n",
        "import torchvision\n",
        "from torchvision import datasets, transforms"
      ],
      "execution_count": 0,
      "outputs": []
    },
    {
      "cell_type": "code",
      "metadata": {
        "id": "HoApMcCh7H9T",
        "colab_type": "code",
        "colab": {}
      },
      "source": [
        "mean = np.array([0.485, 0.456, 0.406])\n",
        "std = np.array([0.229, 0.224, 0.225])"
      ],
      "execution_count": 0,
      "outputs": []
    },
    {
      "cell_type": "code",
      "metadata": {
        "id": "5sh6RR4O7XUj",
        "colab_type": "code",
        "colab": {}
      },
      "source": [
        "train_transform = transforms.Compose([\n",
        "  transforms.Resize(224),\n",
        "  transforms.RandomChoice((transforms.RandomHorizontalFlip(), transforms.ColorJitter(brightness=0.3, contrast=0.3, saturation=0.3, hue=0.3), transforms.RandomVerticalFlip(), transforms.RandomRotation(0.2))),\n",
        "  transforms.ToTensor(),\n",
        "  transforms.Normalize(mean = mean, std = std)                                      \n",
        "]) "
      ],
      "execution_count": 0,
      "outputs": []
    },
    {
      "cell_type": "code",
      "metadata": {
        "id": "02qhCNOF8JWd",
        "colab_type": "code",
        "colab": {}
      },
      "source": [
        "test_transform = transforms.Compose([\n",
        "  transforms.Resize(224),\n",
        "  transforms.ToTensor(),\n",
        "  transforms.Normalize(mean = mean, std = std)                                      \n",
        "])"
      ],
      "execution_count": 0,
      "outputs": []
    },
    {
      "cell_type": "code",
      "metadata": {
        "id": "azNN0sZY3pEr",
        "colab_type": "code",
        "colab": {}
      },
      "source": [
        "# !unzip '/content/drive/My Drive/Deep_Learning_Projects/Currency_Dataset/CurrencyDataset.zip' -d '/content/drive/My Drive/Deep_Learning_Projects/Currency_Dataset/'"
      ],
      "execution_count": 0,
      "outputs": []
    },
    {
      "cell_type": "code",
      "metadata": {
        "id": "eXyW1nxA8WYi",
        "colab_type": "code",
        "colab": {}
      },
      "source": [
        "train_dir = \"/content/drive/My Drive/Deep_Learning_Projects/Currency_Dataset/CurrencyDataset/train-cropped\"\n",
        "test_dir = \"/content/drive/My Drive/Deep_Learning_Projects/Currency_Dataset/CurrencyDataset/test-cropped\"\n",
        "valid_dir = \"/content/drive/My Drive/Deep_Learning_Projects/Currency_Dataset/CurrencyDataset/valid-cropped\"\n",
        "batch_size = 64\n",
        "num_workers = 2"
      ],
      "execution_count": 0,
      "outputs": []
    },
    {
      "cell_type": "code",
      "metadata": {
        "id": "m_W9cs_h7okp",
        "colab_type": "code",
        "outputId": "b6fd1ad0-bb77-4d51-d12f-2bfcfbe6d3b2",
        "colab": {
          "base_uri": "https://localhost:8080/",
          "height": 34
        }
      },
      "source": [
        "cd '/content/drive/My Drive/Deep_Learning_Projects/Currency_Dataset/CurrencyDataset'"
      ],
      "execution_count": 7,
      "outputs": [
        {
          "output_type": "stream",
          "text": [
            "/content/drive/My Drive/Deep_Learning_Projects/Currency_Dataset/CurrencyDataset\n"
          ],
          "name": "stdout"
        }
      ]
    },
    {
      "cell_type": "code",
      "metadata": {
        "id": "BFfuhISV5MTB",
        "colab_type": "code",
        "colab": {}
      },
      "source": [
        "train_set = datasets.ImageFolder(\"train-cropped\", transform = train_transform)"
      ],
      "execution_count": 0,
      "outputs": []
    },
    {
      "cell_type": "code",
      "metadata": {
        "id": "cfXOqP1B8AEd",
        "colab_type": "code",
        "colab": {}
      },
      "source": [
        "val_set = datasets.ImageFolder(\"valid-cropped\", transform = test_transform)"
      ],
      "execution_count": 0,
      "outputs": []
    },
    {
      "cell_type": "code",
      "metadata": {
        "id": "vVFxLrKI9JAy",
        "colab_type": "code",
        "colab": {}
      },
      "source": [
        "test_set = datasets.ImageFolder(\"test-cropped\", transform = test_transform)"
      ],
      "execution_count": 0,
      "outputs": []
    },
    {
      "cell_type": "code",
      "metadata": {
        "id": "0hRcnKOg9OsE",
        "colab_type": "code",
        "outputId": "2dcd8949-f9fd-4c6c-b35d-a3c451bed5ab",
        "colab": {
          "base_uri": "https://localhost:8080/",
          "height": 269
        }
      },
      "source": [
        "train_set"
      ],
      "execution_count": 11,
      "outputs": [
        {
          "output_type": "execute_result",
          "data": {
            "text/plain": [
              "Dataset ImageFolder\n",
              "    Number of datapoints: 4407\n",
              "    Root location: train-cropped\n",
              "    StandardTransform\n",
              "Transform: Compose(\n",
              "               Resize(size=224, interpolation=PIL.Image.BILINEAR)\n",
              "               RandomChoice(\n",
              "               RandomHorizontalFlip(p=0.5)\n",
              "               ColorJitter(brightness=[0.7, 1.3], contrast=[0.7, 1.3], saturation=[0.7, 1.3], hue=[-0.3, 0.3])\n",
              "               RandomVerticalFlip(p=0.5)\n",
              "               RandomRotation(degrees=(-0.2, 0.2), resample=False, expand=False)\n",
              "           )\n",
              "               ToTensor()\n",
              "               Normalize(mean=[0.485 0.456 0.406], std=[0.229 0.224 0.225])\n",
              "           )"
            ]
          },
          "metadata": {
            "tags": []
          },
          "execution_count": 11
        }
      ]
    },
    {
      "cell_type": "code",
      "metadata": {
        "id": "5PuF7hkfAsxK",
        "colab_type": "code",
        "colab": {}
      },
      "source": [
        "trainloader = torch.utils.data.DataLoader(train_set,\n",
        "                                          batch_size = batch_size,\n",
        "                                          shuffle = True,\n",
        "                                          num_workers = num_workers)"
      ],
      "execution_count": 0,
      "outputs": []
    },
    {
      "cell_type": "code",
      "metadata": {
        "id": "zY_4noywA8hN",
        "colab_type": "code",
        "colab": {}
      },
      "source": [
        "val_loader = torch.utils.data.DataLoader(val_set,\n",
        "                                          batch_size = batch_size,\n",
        "                                          shuffle = False,\n",
        "                                          num_workers = num_workers)"
      ],
      "execution_count": 0,
      "outputs": []
    },
    {
      "cell_type": "code",
      "metadata": {
        "id": "bzpCD5ckBKEL",
        "colab_type": "code",
        "colab": {}
      },
      "source": [
        "testloader = torch.utils.data.DataLoader(test_set,\n",
        "                                          batch_size = batch_size,\n",
        "                                          shuffle = False,\n",
        "                                          num_workers = num_workers)"
      ],
      "execution_count": 0,
      "outputs": []
    },
    {
      "cell_type": "code",
      "metadata": {
        "id": "zC1kzVKSBfoi",
        "colab_type": "code",
        "colab": {}
      },
      "source": [
        "dataset_sizes = {'train' : len(trainloader), 'val' : len(val_loader)}"
      ],
      "execution_count": 0,
      "outputs": []
    },
    {
      "cell_type": "code",
      "metadata": {
        "id": "06vdXvMkBlat",
        "colab_type": "code",
        "outputId": "a4d256b3-9976-477f-87ba-c9761b9712f1",
        "colab": {
          "base_uri": "https://localhost:8080/",
          "height": 34
        }
      },
      "source": [
        "dataset_sizes"
      ],
      "execution_count": 16,
      "outputs": [
        {
          "output_type": "execute_result",
          "data": {
            "text/plain": [
              "{'train': 69, 'val': 14}"
            ]
          },
          "metadata": {
            "tags": []
          },
          "execution_count": 16
        }
      ]
    },
    {
      "cell_type": "code",
      "metadata": {
        "id": "FQW80EkaBnjK",
        "colab_type": "code",
        "outputId": "61186259-0621-4699-e75e-c0c866c0666e",
        "colab": {
          "base_uri": "https://localhost:8080/",
          "height": 50
        }
      },
      "source": [
        "class_names = train_set.classes\n",
        "\n",
        "print(np.size(class_names))\n",
        "print(class_names)"
      ],
      "execution_count": 17,
      "outputs": [
        {
          "output_type": "stream",
          "text": [
            "9\n",
            "['10', '100', '20', '200', '2000', '5', '50', '500', 'none']\n"
          ],
          "name": "stdout"
        }
      ]
    },
    {
      "cell_type": "markdown",
      "metadata": {
        "id": "QJcaXra9ByFM",
        "colab_type": "text"
      },
      "source": [
        "#Import Model"
      ]
    },
    {
      "cell_type": "code",
      "metadata": {
        "colab_type": "code",
        "id": "qpUG64-WWrq1",
        "colab": {}
      },
      "source": [
        "from torchvision import models"
      ],
      "execution_count": 0,
      "outputs": []
    },
    {
      "cell_type": "code",
      "metadata": {
        "colab_type": "code",
        "id": "Ut4Ugds9Wrq8",
        "colab": {}
      },
      "source": [
        "model = models.mobilenet_v2(pretrained=True)"
      ],
      "execution_count": 0,
      "outputs": []
    },
    {
      "cell_type": "code",
      "metadata": {
        "colab_type": "code",
        "outputId": "0056108f-4e88-43ff-d09b-2babc7cff34d",
        "id": "bycBpumrWrrA",
        "colab": {
          "base_uri": "https://localhost:8080/",
          "height": 1000
        }
      },
      "source": [
        "model"
      ],
      "execution_count": 50,
      "outputs": [
        {
          "output_type": "execute_result",
          "data": {
            "text/plain": [
              "MobileNetV2(\n",
              "  (features): Sequential(\n",
              "    (0): ConvBNReLU(\n",
              "      (0): Conv2d(3, 32, kernel_size=(3, 3), stride=(2, 2), padding=(1, 1), bias=False)\n",
              "      (1): BatchNorm2d(32, eps=1e-05, momentum=0.1, affine=True, track_running_stats=True)\n",
              "      (2): ReLU6(inplace=True)\n",
              "    )\n",
              "    (1): InvertedResidual(\n",
              "      (conv): Sequential(\n",
              "        (0): ConvBNReLU(\n",
              "          (0): Conv2d(32, 32, kernel_size=(3, 3), stride=(1, 1), padding=(1, 1), groups=32, bias=False)\n",
              "          (1): BatchNorm2d(32, eps=1e-05, momentum=0.1, affine=True, track_running_stats=True)\n",
              "          (2): ReLU6(inplace=True)\n",
              "        )\n",
              "        (1): Conv2d(32, 16, kernel_size=(1, 1), stride=(1, 1), bias=False)\n",
              "        (2): BatchNorm2d(16, eps=1e-05, momentum=0.1, affine=True, track_running_stats=True)\n",
              "      )\n",
              "    )\n",
              "    (2): InvertedResidual(\n",
              "      (conv): Sequential(\n",
              "        (0): ConvBNReLU(\n",
              "          (0): Conv2d(16, 96, kernel_size=(1, 1), stride=(1, 1), bias=False)\n",
              "          (1): BatchNorm2d(96, eps=1e-05, momentum=0.1, affine=True, track_running_stats=True)\n",
              "          (2): ReLU6(inplace=True)\n",
              "        )\n",
              "        (1): ConvBNReLU(\n",
              "          (0): Conv2d(96, 96, kernel_size=(3, 3), stride=(2, 2), padding=(1, 1), groups=96, bias=False)\n",
              "          (1): BatchNorm2d(96, eps=1e-05, momentum=0.1, affine=True, track_running_stats=True)\n",
              "          (2): ReLU6(inplace=True)\n",
              "        )\n",
              "        (2): Conv2d(96, 24, kernel_size=(1, 1), stride=(1, 1), bias=False)\n",
              "        (3): BatchNorm2d(24, eps=1e-05, momentum=0.1, affine=True, track_running_stats=True)\n",
              "      )\n",
              "    )\n",
              "    (3): InvertedResidual(\n",
              "      (conv): Sequential(\n",
              "        (0): ConvBNReLU(\n",
              "          (0): Conv2d(24, 144, kernel_size=(1, 1), stride=(1, 1), bias=False)\n",
              "          (1): BatchNorm2d(144, eps=1e-05, momentum=0.1, affine=True, track_running_stats=True)\n",
              "          (2): ReLU6(inplace=True)\n",
              "        )\n",
              "        (1): ConvBNReLU(\n",
              "          (0): Conv2d(144, 144, kernel_size=(3, 3), stride=(1, 1), padding=(1, 1), groups=144, bias=False)\n",
              "          (1): BatchNorm2d(144, eps=1e-05, momentum=0.1, affine=True, track_running_stats=True)\n",
              "          (2): ReLU6(inplace=True)\n",
              "        )\n",
              "        (2): Conv2d(144, 24, kernel_size=(1, 1), stride=(1, 1), bias=False)\n",
              "        (3): BatchNorm2d(24, eps=1e-05, momentum=0.1, affine=True, track_running_stats=True)\n",
              "      )\n",
              "    )\n",
              "    (4): InvertedResidual(\n",
              "      (conv): Sequential(\n",
              "        (0): ConvBNReLU(\n",
              "          (0): Conv2d(24, 144, kernel_size=(1, 1), stride=(1, 1), bias=False)\n",
              "          (1): BatchNorm2d(144, eps=1e-05, momentum=0.1, affine=True, track_running_stats=True)\n",
              "          (2): ReLU6(inplace=True)\n",
              "        )\n",
              "        (1): ConvBNReLU(\n",
              "          (0): Conv2d(144, 144, kernel_size=(3, 3), stride=(2, 2), padding=(1, 1), groups=144, bias=False)\n",
              "          (1): BatchNorm2d(144, eps=1e-05, momentum=0.1, affine=True, track_running_stats=True)\n",
              "          (2): ReLU6(inplace=True)\n",
              "        )\n",
              "        (2): Conv2d(144, 32, kernel_size=(1, 1), stride=(1, 1), bias=False)\n",
              "        (3): BatchNorm2d(32, eps=1e-05, momentum=0.1, affine=True, track_running_stats=True)\n",
              "      )\n",
              "    )\n",
              "    (5): InvertedResidual(\n",
              "      (conv): Sequential(\n",
              "        (0): ConvBNReLU(\n",
              "          (0): Conv2d(32, 192, kernel_size=(1, 1), stride=(1, 1), bias=False)\n",
              "          (1): BatchNorm2d(192, eps=1e-05, momentum=0.1, affine=True, track_running_stats=True)\n",
              "          (2): ReLU6(inplace=True)\n",
              "        )\n",
              "        (1): ConvBNReLU(\n",
              "          (0): Conv2d(192, 192, kernel_size=(3, 3), stride=(1, 1), padding=(1, 1), groups=192, bias=False)\n",
              "          (1): BatchNorm2d(192, eps=1e-05, momentum=0.1, affine=True, track_running_stats=True)\n",
              "          (2): ReLU6(inplace=True)\n",
              "        )\n",
              "        (2): Conv2d(192, 32, kernel_size=(1, 1), stride=(1, 1), bias=False)\n",
              "        (3): BatchNorm2d(32, eps=1e-05, momentum=0.1, affine=True, track_running_stats=True)\n",
              "      )\n",
              "    )\n",
              "    (6): InvertedResidual(\n",
              "      (conv): Sequential(\n",
              "        (0): ConvBNReLU(\n",
              "          (0): Conv2d(32, 192, kernel_size=(1, 1), stride=(1, 1), bias=False)\n",
              "          (1): BatchNorm2d(192, eps=1e-05, momentum=0.1, affine=True, track_running_stats=True)\n",
              "          (2): ReLU6(inplace=True)\n",
              "        )\n",
              "        (1): ConvBNReLU(\n",
              "          (0): Conv2d(192, 192, kernel_size=(3, 3), stride=(1, 1), padding=(1, 1), groups=192, bias=False)\n",
              "          (1): BatchNorm2d(192, eps=1e-05, momentum=0.1, affine=True, track_running_stats=True)\n",
              "          (2): ReLU6(inplace=True)\n",
              "        )\n",
              "        (2): Conv2d(192, 32, kernel_size=(1, 1), stride=(1, 1), bias=False)\n",
              "        (3): BatchNorm2d(32, eps=1e-05, momentum=0.1, affine=True, track_running_stats=True)\n",
              "      )\n",
              "    )\n",
              "    (7): InvertedResidual(\n",
              "      (conv): Sequential(\n",
              "        (0): ConvBNReLU(\n",
              "          (0): Conv2d(32, 192, kernel_size=(1, 1), stride=(1, 1), bias=False)\n",
              "          (1): BatchNorm2d(192, eps=1e-05, momentum=0.1, affine=True, track_running_stats=True)\n",
              "          (2): ReLU6(inplace=True)\n",
              "        )\n",
              "        (1): ConvBNReLU(\n",
              "          (0): Conv2d(192, 192, kernel_size=(3, 3), stride=(2, 2), padding=(1, 1), groups=192, bias=False)\n",
              "          (1): BatchNorm2d(192, eps=1e-05, momentum=0.1, affine=True, track_running_stats=True)\n",
              "          (2): ReLU6(inplace=True)\n",
              "        )\n",
              "        (2): Conv2d(192, 64, kernel_size=(1, 1), stride=(1, 1), bias=False)\n",
              "        (3): BatchNorm2d(64, eps=1e-05, momentum=0.1, affine=True, track_running_stats=True)\n",
              "      )\n",
              "    )\n",
              "    (8): InvertedResidual(\n",
              "      (conv): Sequential(\n",
              "        (0): ConvBNReLU(\n",
              "          (0): Conv2d(64, 384, kernel_size=(1, 1), stride=(1, 1), bias=False)\n",
              "          (1): BatchNorm2d(384, eps=1e-05, momentum=0.1, affine=True, track_running_stats=True)\n",
              "          (2): ReLU6(inplace=True)\n",
              "        )\n",
              "        (1): ConvBNReLU(\n",
              "          (0): Conv2d(384, 384, kernel_size=(3, 3), stride=(1, 1), padding=(1, 1), groups=384, bias=False)\n",
              "          (1): BatchNorm2d(384, eps=1e-05, momentum=0.1, affine=True, track_running_stats=True)\n",
              "          (2): ReLU6(inplace=True)\n",
              "        )\n",
              "        (2): Conv2d(384, 64, kernel_size=(1, 1), stride=(1, 1), bias=False)\n",
              "        (3): BatchNorm2d(64, eps=1e-05, momentum=0.1, affine=True, track_running_stats=True)\n",
              "      )\n",
              "    )\n",
              "    (9): InvertedResidual(\n",
              "      (conv): Sequential(\n",
              "        (0): ConvBNReLU(\n",
              "          (0): Conv2d(64, 384, kernel_size=(1, 1), stride=(1, 1), bias=False)\n",
              "          (1): BatchNorm2d(384, eps=1e-05, momentum=0.1, affine=True, track_running_stats=True)\n",
              "          (2): ReLU6(inplace=True)\n",
              "        )\n",
              "        (1): ConvBNReLU(\n",
              "          (0): Conv2d(384, 384, kernel_size=(3, 3), stride=(1, 1), padding=(1, 1), groups=384, bias=False)\n",
              "          (1): BatchNorm2d(384, eps=1e-05, momentum=0.1, affine=True, track_running_stats=True)\n",
              "          (2): ReLU6(inplace=True)\n",
              "        )\n",
              "        (2): Conv2d(384, 64, kernel_size=(1, 1), stride=(1, 1), bias=False)\n",
              "        (3): BatchNorm2d(64, eps=1e-05, momentum=0.1, affine=True, track_running_stats=True)\n",
              "      )\n",
              "    )\n",
              "    (10): InvertedResidual(\n",
              "      (conv): Sequential(\n",
              "        (0): ConvBNReLU(\n",
              "          (0): Conv2d(64, 384, kernel_size=(1, 1), stride=(1, 1), bias=False)\n",
              "          (1): BatchNorm2d(384, eps=1e-05, momentum=0.1, affine=True, track_running_stats=True)\n",
              "          (2): ReLU6(inplace=True)\n",
              "        )\n",
              "        (1): ConvBNReLU(\n",
              "          (0): Conv2d(384, 384, kernel_size=(3, 3), stride=(1, 1), padding=(1, 1), groups=384, bias=False)\n",
              "          (1): BatchNorm2d(384, eps=1e-05, momentum=0.1, affine=True, track_running_stats=True)\n",
              "          (2): ReLU6(inplace=True)\n",
              "        )\n",
              "        (2): Conv2d(384, 64, kernel_size=(1, 1), stride=(1, 1), bias=False)\n",
              "        (3): BatchNorm2d(64, eps=1e-05, momentum=0.1, affine=True, track_running_stats=True)\n",
              "      )\n",
              "    )\n",
              "    (11): InvertedResidual(\n",
              "      (conv): Sequential(\n",
              "        (0): ConvBNReLU(\n",
              "          (0): Conv2d(64, 384, kernel_size=(1, 1), stride=(1, 1), bias=False)\n",
              "          (1): BatchNorm2d(384, eps=1e-05, momentum=0.1, affine=True, track_running_stats=True)\n",
              "          (2): ReLU6(inplace=True)\n",
              "        )\n",
              "        (1): ConvBNReLU(\n",
              "          (0): Conv2d(384, 384, kernel_size=(3, 3), stride=(1, 1), padding=(1, 1), groups=384, bias=False)\n",
              "          (1): BatchNorm2d(384, eps=1e-05, momentum=0.1, affine=True, track_running_stats=True)\n",
              "          (2): ReLU6(inplace=True)\n",
              "        )\n",
              "        (2): Conv2d(384, 96, kernel_size=(1, 1), stride=(1, 1), bias=False)\n",
              "        (3): BatchNorm2d(96, eps=1e-05, momentum=0.1, affine=True, track_running_stats=True)\n",
              "      )\n",
              "    )\n",
              "    (12): InvertedResidual(\n",
              "      (conv): Sequential(\n",
              "        (0): ConvBNReLU(\n",
              "          (0): Conv2d(96, 576, kernel_size=(1, 1), stride=(1, 1), bias=False)\n",
              "          (1): BatchNorm2d(576, eps=1e-05, momentum=0.1, affine=True, track_running_stats=True)\n",
              "          (2): ReLU6(inplace=True)\n",
              "        )\n",
              "        (1): ConvBNReLU(\n",
              "          (0): Conv2d(576, 576, kernel_size=(3, 3), stride=(1, 1), padding=(1, 1), groups=576, bias=False)\n",
              "          (1): BatchNorm2d(576, eps=1e-05, momentum=0.1, affine=True, track_running_stats=True)\n",
              "          (2): ReLU6(inplace=True)\n",
              "        )\n",
              "        (2): Conv2d(576, 96, kernel_size=(1, 1), stride=(1, 1), bias=False)\n",
              "        (3): BatchNorm2d(96, eps=1e-05, momentum=0.1, affine=True, track_running_stats=True)\n",
              "      )\n",
              "    )\n",
              "    (13): InvertedResidual(\n",
              "      (conv): Sequential(\n",
              "        (0): ConvBNReLU(\n",
              "          (0): Conv2d(96, 576, kernel_size=(1, 1), stride=(1, 1), bias=False)\n",
              "          (1): BatchNorm2d(576, eps=1e-05, momentum=0.1, affine=True, track_running_stats=True)\n",
              "          (2): ReLU6(inplace=True)\n",
              "        )\n",
              "        (1): ConvBNReLU(\n",
              "          (0): Conv2d(576, 576, kernel_size=(3, 3), stride=(1, 1), padding=(1, 1), groups=576, bias=False)\n",
              "          (1): BatchNorm2d(576, eps=1e-05, momentum=0.1, affine=True, track_running_stats=True)\n",
              "          (2): ReLU6(inplace=True)\n",
              "        )\n",
              "        (2): Conv2d(576, 96, kernel_size=(1, 1), stride=(1, 1), bias=False)\n",
              "        (3): BatchNorm2d(96, eps=1e-05, momentum=0.1, affine=True, track_running_stats=True)\n",
              "      )\n",
              "    )\n",
              "    (14): InvertedResidual(\n",
              "      (conv): Sequential(\n",
              "        (0): ConvBNReLU(\n",
              "          (0): Conv2d(96, 576, kernel_size=(1, 1), stride=(1, 1), bias=False)\n",
              "          (1): BatchNorm2d(576, eps=1e-05, momentum=0.1, affine=True, track_running_stats=True)\n",
              "          (2): ReLU6(inplace=True)\n",
              "        )\n",
              "        (1): ConvBNReLU(\n",
              "          (0): Conv2d(576, 576, kernel_size=(3, 3), stride=(2, 2), padding=(1, 1), groups=576, bias=False)\n",
              "          (1): BatchNorm2d(576, eps=1e-05, momentum=0.1, affine=True, track_running_stats=True)\n",
              "          (2): ReLU6(inplace=True)\n",
              "        )\n",
              "        (2): Conv2d(576, 160, kernel_size=(1, 1), stride=(1, 1), bias=False)\n",
              "        (3): BatchNorm2d(160, eps=1e-05, momentum=0.1, affine=True, track_running_stats=True)\n",
              "      )\n",
              "    )\n",
              "    (15): InvertedResidual(\n",
              "      (conv): Sequential(\n",
              "        (0): ConvBNReLU(\n",
              "          (0): Conv2d(160, 960, kernel_size=(1, 1), stride=(1, 1), bias=False)\n",
              "          (1): BatchNorm2d(960, eps=1e-05, momentum=0.1, affine=True, track_running_stats=True)\n",
              "          (2): ReLU6(inplace=True)\n",
              "        )\n",
              "        (1): ConvBNReLU(\n",
              "          (0): Conv2d(960, 960, kernel_size=(3, 3), stride=(1, 1), padding=(1, 1), groups=960, bias=False)\n",
              "          (1): BatchNorm2d(960, eps=1e-05, momentum=0.1, affine=True, track_running_stats=True)\n",
              "          (2): ReLU6(inplace=True)\n",
              "        )\n",
              "        (2): Conv2d(960, 160, kernel_size=(1, 1), stride=(1, 1), bias=False)\n",
              "        (3): BatchNorm2d(160, eps=1e-05, momentum=0.1, affine=True, track_running_stats=True)\n",
              "      )\n",
              "    )\n",
              "    (16): InvertedResidual(\n",
              "      (conv): Sequential(\n",
              "        (0): ConvBNReLU(\n",
              "          (0): Conv2d(160, 960, kernel_size=(1, 1), stride=(1, 1), bias=False)\n",
              "          (1): BatchNorm2d(960, eps=1e-05, momentum=0.1, affine=True, track_running_stats=True)\n",
              "          (2): ReLU6(inplace=True)\n",
              "        )\n",
              "        (1): ConvBNReLU(\n",
              "          (0): Conv2d(960, 960, kernel_size=(3, 3), stride=(1, 1), padding=(1, 1), groups=960, bias=False)\n",
              "          (1): BatchNorm2d(960, eps=1e-05, momentum=0.1, affine=True, track_running_stats=True)\n",
              "          (2): ReLU6(inplace=True)\n",
              "        )\n",
              "        (2): Conv2d(960, 160, kernel_size=(1, 1), stride=(1, 1), bias=False)\n",
              "        (3): BatchNorm2d(160, eps=1e-05, momentum=0.1, affine=True, track_running_stats=True)\n",
              "      )\n",
              "    )\n",
              "    (17): InvertedResidual(\n",
              "      (conv): Sequential(\n",
              "        (0): ConvBNReLU(\n",
              "          (0): Conv2d(160, 960, kernel_size=(1, 1), stride=(1, 1), bias=False)\n",
              "          (1): BatchNorm2d(960, eps=1e-05, momentum=0.1, affine=True, track_running_stats=True)\n",
              "          (2): ReLU6(inplace=True)\n",
              "        )\n",
              "        (1): ConvBNReLU(\n",
              "          (0): Conv2d(960, 960, kernel_size=(3, 3), stride=(1, 1), padding=(1, 1), groups=960, bias=False)\n",
              "          (1): BatchNorm2d(960, eps=1e-05, momentum=0.1, affine=True, track_running_stats=True)\n",
              "          (2): ReLU6(inplace=True)\n",
              "        )\n",
              "        (2): Conv2d(960, 320, kernel_size=(1, 1), stride=(1, 1), bias=False)\n",
              "        (3): BatchNorm2d(320, eps=1e-05, momentum=0.1, affine=True, track_running_stats=True)\n",
              "      )\n",
              "    )\n",
              "    (18): ConvBNReLU(\n",
              "      (0): Conv2d(320, 1280, kernel_size=(1, 1), stride=(1, 1), bias=False)\n",
              "      (1): BatchNorm2d(1280, eps=1e-05, momentum=0.1, affine=True, track_running_stats=True)\n",
              "      (2): ReLU6(inplace=True)\n",
              "    )\n",
              "  )\n",
              "  (classifier): Sequential(\n",
              "    (0): Dropout(p=0.2, inplace=False)\n",
              "    (1): Linear(in_features=1280, out_features=1000, bias=True)\n",
              "  )\n",
              ")"
            ]
          },
          "metadata": {
            "tags": []
          },
          "execution_count": 50
        }
      ]
    },
    {
      "cell_type": "markdown",
      "metadata": {
        "colab_type": "text",
        "id": "UbFsDbFjWrrD"
      },
      "source": [
        "Freezing model parameters of above model"
      ]
    },
    {
      "cell_type": "code",
      "metadata": {
        "colab_type": "code",
        "id": "W3wunPVCWrrE",
        "colab": {}
      },
      "source": [
        "for param in model.parameters():\n",
        "  param.requires_grad = False"
      ],
      "execution_count": 0,
      "outputs": []
    },
    {
      "cell_type": "code",
      "metadata": {
        "colab_type": "code",
        "outputId": "48fcb39a-df16-418f-9f6c-604200739f3e",
        "id": "XcD5QV6zWrrH",
        "colab": {
          "base_uri": "https://localhost:8080/",
          "height": 34
        }
      },
      "source": [
        "num_ftrs = model.classifier[1].in_features\n",
        "num_ftrs"
      ],
      "execution_count": 52,
      "outputs": [
        {
          "output_type": "execute_result",
          "data": {
            "text/plain": [
              "1280"
            ]
          },
          "metadata": {
            "tags": []
          },
          "execution_count": 52
        }
      ]
    },
    {
      "cell_type": "code",
      "metadata": {
        "colab_type": "code",
        "id": "pFqoTMCCWrrJ",
        "colab": {}
      },
      "source": [
        "model.classifier  = nn.Sequential( nn.Dropout(p=0.2, inplace=False),\n",
        "                           nn.Linear(num_ftrs, 1024),\n",
        "                           nn.ReLU(),\n",
        "                           nn.Dropout(0.5),\n",
        "                           nn.Linear(1024, 512),\n",
        "                           nn.ReLU(),\n",
        "                           nn.Dropout(0.5),\n",
        "                           nn.Linear(512, 9),\n",
        "                           nn.LogSoftmax(dim=1))"
      ],
      "execution_count": 0,
      "outputs": []
    },
    {
      "cell_type": "code",
      "metadata": {
        "colab_type": "code",
        "id": "wzuBDh8rWrrO",
        "colab": {}
      },
      "source": [
        "device = torch.device(\"cuda:0\" if torch.cuda.is_available() else \"cpu\")"
      ],
      "execution_count": 0,
      "outputs": []
    },
    {
      "cell_type": "code",
      "metadata": {
        "colab_type": "code",
        "outputId": "995861c1-0b9c-4e5f-a26c-f88b3778dca3",
        "id": "oDk44M__WrrQ",
        "colab": {
          "base_uri": "https://localhost:8080/",
          "height": 34
        }
      },
      "source": [
        "print(device)"
      ],
      "execution_count": 55,
      "outputs": [
        {
          "output_type": "stream",
          "text": [
            "cuda:0\n"
          ],
          "name": "stdout"
        }
      ]
    },
    {
      "cell_type": "code",
      "metadata": {
        "id": "911bCeDjhBVZ",
        "colab_type": "code",
        "colab": {}
      },
      "source": [
        "model = model.to(device)"
      ],
      "execution_count": 0,
      "outputs": []
    },
    {
      "cell_type": "code",
      "metadata": {
        "id": "Ow6lP6F11lHm",
        "colab_type": "code",
        "colab": {}
      },
      "source": [
        "criterion = nn.NLLLoss()\n",
        "optimizer = optim.Adam(model.parameters())\n",
        "num_epochs = 2"
      ],
      "execution_count": 0,
      "outputs": []
    },
    {
      "cell_type": "code",
      "metadata": {
        "id": "I_rzWzWYB8gj",
        "colab_type": "code",
        "colab": {}
      },
      "source": [
        "checkpoint = torch.load('Model_checkpoints/mobileNetV2_checkpoint(YO97).pth')"
      ],
      "execution_count": 0,
      "outputs": []
    },
    {
      "cell_type": "code",
      "metadata": {
        "id": "LarMZWmRCVSd",
        "colab_type": "code",
        "outputId": "74209ab0-3b18-4440-cd3e-77a3fd15be46",
        "colab": {
          "base_uri": "https://localhost:8080/",
          "height": 34
        }
      },
      "source": [
        "model.load_state_dict(checkpoint['model_state_dict'])"
      ],
      "execution_count": 59,
      "outputs": [
        {
          "output_type": "execute_result",
          "data": {
            "text/plain": [
              "<All keys matched successfully>"
            ]
          },
          "metadata": {
            "tags": []
          },
          "execution_count": 59
        }
      ]
    },
    {
      "cell_type": "code",
      "metadata": {
        "id": "kT17vJt3CYnt",
        "colab_type": "code",
        "colab": {}
      },
      "source": [
        "optimizer.load_state_dict(checkpoint['optimizer_state_dict'])"
      ],
      "execution_count": 0,
      "outputs": []
    },
    {
      "cell_type": "code",
      "metadata": {
        "id": "KwNsK_YTZN5a",
        "colab_type": "code",
        "colab": {}
      },
      "source": [
        "train_loss = checkpoint['train_loss']\n",
        "val_loss = checkpoint['val_loss']\n",
        "accuracy = checkpoint['accuracy']"
      ],
      "execution_count": 0,
      "outputs": []
    },
    {
      "cell_type": "code",
      "metadata": {
        "id": "mLYOiDy5CbDE",
        "colab_type": "code",
        "outputId": "7c2595fa-033a-41cd-dc05-4f8860fe2fc8",
        "colab": {
          "base_uri": "https://localhost:8080/",
          "height": 34
        }
      },
      "source": [
        "start_epoch = checkpoint['epoch']\n",
        "start_epoch"
      ],
      "execution_count": 62,
      "outputs": [
        {
          "output_type": "execute_result",
          "data": {
            "text/plain": [
              "15"
            ]
          },
          "metadata": {
            "tags": []
          },
          "execution_count": 62
        }
      ]
    },
    {
      "cell_type": "code",
      "metadata": {
        "id": "v7D5bhe3ZoNb",
        "colab_type": "code",
        "colab": {}
      },
      "source": [
        "for i in range(14, 19):\n",
        "  for param in model.features[i].parameters():\n",
        "    param.requires_grad = True"
      ],
      "execution_count": 0,
      "outputs": []
    },
    {
      "cell_type": "code",
      "metadata": {
        "id": "W9qEDzasez8q",
        "colab_type": "code",
        "colab": {}
      },
      "source": [
        "for param in model.classifier.parameters():\n",
        "  param.requires_grad = True"
      ],
      "execution_count": 0,
      "outputs": []
    },
    {
      "cell_type": "code",
      "metadata": {
        "colab_type": "code",
        "id": "-lavoZ-FWrrY",
        "outputId": "3511c32d-9451-4027-df52-25e6141c00ce",
        "colab": {
          "base_uri": "https://localhost:8080/",
          "height": 588
        }
      },
      "source": [
        "model = model.to(device)\n",
        "\n",
        "for epoch in range(num_epochs):\n",
        "  \n",
        "  #Training model\n",
        "  model.train()\n",
        "  counter = 0\n",
        "  trainLoss = 0\n",
        "  for inputs, labels in trainloader:\n",
        "    inputs = inputs.to(device)\n",
        "    labels = labels.to(device)\n",
        "\n",
        "    optimizer.zero_grad()\n",
        "\n",
        "    output = model.forward(inputs)\n",
        "\n",
        "    loss = criterion(output, labels)\n",
        "\n",
        "    loss.backward()\n",
        "\n",
        "    optimizer.step()\n",
        "\n",
        "    trainLoss += loss.item()*inputs.size(0)\n",
        "\n",
        "    #printing progress of training\n",
        "    counter += 1\n",
        "    if(counter % 5 == 0):\n",
        "      print(counter, \"/\", len(trainloader))  \n",
        "\n",
        "  #Evaluating Model\n",
        "  model.eval()\n",
        "  counter = 0\n",
        "  valLoss = 0\n",
        "  with torch.no_grad():\n",
        "    total = 0\n",
        "    correct = 0\n",
        "    for inputs, labels in val_loader:\n",
        "      inputs = inputs.to(device)\n",
        "      labels = labels.to(device)  \n",
        "\n",
        "      output = model.forward(inputs)\n",
        "\n",
        "      valloss = criterion(output, labels)\n",
        "\n",
        "      valLoss += valloss.item()*inputs.size(0)\n",
        "\n",
        "      _, predicted = torch.max(output.data, 1)\n",
        "\n",
        "      total += labels.size(0)\n",
        "      correct += (predicted == labels).sum().item()\n",
        "\n",
        "      counter += 1\n",
        "      if(counter % 5 == 0):\n",
        "        print(counter, \"/\", len(val_loader))\n",
        "\n",
        "    train_loss.append(trainLoss/len(trainloader.dataset))\n",
        "    val_loss.append(valLoss/len(val_loader.dataset))\n",
        "    accuracy.append(100*correct/total)\n",
        "    # Print out the information\n",
        "    print(\"Accuracy of the model on test images: {}%\".format(100*correct/total))\n",
        "    print('Epoch: {} \\tTraining Loss: {:.6f} \\tValidation Loss: {:.6f}'.format(epoch, trainLoss, valLoss))      "
      ],
      "execution_count": 65,
      "outputs": [
        {
          "output_type": "stream",
          "text": [
            "5 / 69\n",
            "10 / 69\n",
            "15 / 69\n",
            "20 / 69\n",
            "25 / 69\n",
            "30 / 69\n",
            "35 / 69\n",
            "40 / 69\n",
            "45 / 69\n",
            "50 / 69\n",
            "55 / 69\n",
            "60 / 69\n",
            "65 / 69\n",
            "5 / 14\n",
            "10 / 14\n",
            "Accuracy of the model on test images: 94.14466130884041%\n",
            "Epoch: 0 \tTraining Loss: 2599.896055 \tValidation Loss: 191.334880\n",
            "5 / 69\n",
            "10 / 69\n",
            "15 / 69\n",
            "20 / 69\n",
            "25 / 69\n",
            "30 / 69\n",
            "35 / 69\n",
            "40 / 69\n",
            "45 / 69\n",
            "50 / 69\n",
            "55 / 69\n",
            "60 / 69\n",
            "65 / 69\n",
            "5 / 14\n",
            "10 / 14\n",
            "Accuracy of the model on test images: 96.78530424799081%\n",
            "Epoch: 1 \tTraining Loss: 1422.183078 \tValidation Loss: 98.909650\n"
          ],
          "name": "stdout"
        }
      ]
    },
    {
      "cell_type": "code",
      "metadata": {
        "id": "SOduQrZLnIav",
        "colab_type": "code",
        "colab": {
          "base_uri": "https://localhost:8080/",
          "height": 1000
        },
        "outputId": "a720e4ca-d761-497b-8125-ad93fceb154b"
      },
      "source": [
        "model = model.to(device)\n",
        "num_epochs = 20 \n",
        "for epoch in range(num_epochs):\n",
        "  \n",
        "  #Training model\n",
        "  model.train()\n",
        "  counter = 0\n",
        "  trainLoss = 0\n",
        "  for inputs, labels in trainloader:\n",
        "    inputs = inputs.to(device)\n",
        "    labels = labels.to(device)\n",
        "\n",
        "    optimizer.zero_grad()\n",
        "\n",
        "    output = model.forward(inputs)\n",
        "\n",
        "    loss = criterion(output, labels)\n",
        "\n",
        "    loss.backward()\n",
        "\n",
        "    optimizer.step()\n",
        "\n",
        "    trainLoss += loss.item()*inputs.size(0)\n",
        "\n",
        "    #printing progress of training\n",
        "    counter += 1\n",
        "    if(counter % 5 == 0):\n",
        "      print(counter, \"/\", len(trainloader))  \n",
        "\n",
        "  #Evaluating Model\n",
        "  model.eval()\n",
        "  counter = 0\n",
        "  valLoss = 0\n",
        "  with torch.no_grad():\n",
        "    total = 0\n",
        "    correct = 0\n",
        "    for inputs, labels in val_loader:\n",
        "      inputs = inputs.to(device)\n",
        "      labels = labels.to(device)  \n",
        "\n",
        "      output = model.forward(inputs)\n",
        "\n",
        "      valloss = criterion(output, labels)\n",
        "\n",
        "      valLoss += valloss.item()*inputs.size(0)\n",
        "\n",
        "      _, predicted = torch.max(output.data, 1)\n",
        "\n",
        "      total += labels.size(0)\n",
        "      correct += (predicted == labels).sum().item()\n",
        "\n",
        "      counter += 1\n",
        "      if(counter % 5 == 0):\n",
        "        print(counter, \"/\", len(val_loader))\n",
        "\n",
        "    train_loss.append(trainLoss/len(trainloader.dataset))\n",
        "    val_loss.append(valLoss/len(val_loader.dataset))\n",
        "    accuracy.append(100*correct/total)\n",
        "    # Print out the information\n",
        "    print(\"Accuracy of the model on test images: {}%\".format(100*correct/total))\n",
        "    print('Epoch: {} \\tTraining Loss: {:.6f} \\tValidation Loss: {:.6f}'.format(epoch, trainLoss, valLoss))      "
      ],
      "execution_count": 67,
      "outputs": [
        {
          "output_type": "stream",
          "text": [
            "5 / 69\n",
            "10 / 69\n",
            "15 / 69\n",
            "20 / 69\n",
            "25 / 69\n",
            "30 / 69\n",
            "35 / 69\n",
            "40 / 69\n",
            "45 / 69\n",
            "50 / 69\n",
            "55 / 69\n",
            "60 / 69\n",
            "65 / 69\n",
            "5 / 14\n",
            "10 / 14\n",
            "Accuracy of the model on test images: 97.47416762342135%\n",
            "Epoch: 0 \tTraining Loss: 1030.750230 \tValidation Loss: 92.136814\n",
            "5 / 69\n",
            "10 / 69\n",
            "15 / 69\n",
            "20 / 69\n",
            "25 / 69\n",
            "30 / 69\n",
            "35 / 69\n",
            "40 / 69\n",
            "45 / 69\n",
            "50 / 69\n",
            "55 / 69\n",
            "60 / 69\n",
            "65 / 69\n",
            "5 / 14\n",
            "10 / 14\n",
            "Accuracy of the model on test images: 97.01492537313433%\n",
            "Epoch: 1 \tTraining Loss: 903.377328 \tValidation Loss: 132.778950\n",
            "5 / 69\n",
            "10 / 69\n",
            "15 / 69\n",
            "20 / 69\n",
            "25 / 69\n",
            "30 / 69\n",
            "35 / 69\n",
            "40 / 69\n",
            "45 / 69\n",
            "50 / 69\n",
            "55 / 69\n",
            "60 / 69\n",
            "65 / 69\n",
            "5 / 14\n",
            "10 / 14\n",
            "Accuracy of the model on test images: 97.93340987370838%\n",
            "Epoch: 2 \tTraining Loss: 722.217597 \tValidation Loss: 54.587133\n",
            "5 / 69\n",
            "10 / 69\n",
            "15 / 69\n",
            "20 / 69\n",
            "25 / 69\n",
            "30 / 69\n",
            "35 / 69\n",
            "40 / 69\n",
            "45 / 69\n",
            "50 / 69\n",
            "55 / 69\n",
            "60 / 69\n",
            "65 / 69\n",
            "5 / 14\n",
            "10 / 14\n",
            "Accuracy of the model on test images: 97.81859931113662%\n",
            "Epoch: 3 \tTraining Loss: 530.596812 \tValidation Loss: 49.963687\n",
            "5 / 69\n",
            "10 / 69\n",
            "15 / 69\n",
            "20 / 69\n",
            "25 / 69\n",
            "30 / 69\n",
            "35 / 69\n",
            "40 / 69\n",
            "45 / 69\n",
            "50 / 69\n",
            "55 / 69\n",
            "60 / 69\n",
            "65 / 69\n",
            "5 / 14\n",
            "10 / 14\n",
            "Accuracy of the model on test images: 97.81859931113662%\n",
            "Epoch: 4 \tTraining Loss: 491.732396 \tValidation Loss: 66.136346\n",
            "5 / 69\n",
            "10 / 69\n",
            "15 / 69\n",
            "20 / 69\n",
            "25 / 69\n",
            "30 / 69\n",
            "35 / 69\n",
            "40 / 69\n",
            "45 / 69\n",
            "50 / 69\n",
            "55 / 69\n",
            "60 / 69\n",
            "65 / 69\n",
            "5 / 14\n",
            "10 / 14\n",
            "Accuracy of the model on test images: 97.24454649827784%\n",
            "Epoch: 5 \tTraining Loss: 596.188624 \tValidation Loss: 82.705935\n",
            "5 / 69\n",
            "10 / 69\n",
            "15 / 69\n",
            "20 / 69\n",
            "25 / 69\n",
            "30 / 69\n",
            "35 / 69\n",
            "40 / 69\n",
            "45 / 69\n",
            "50 / 69\n",
            "55 / 69\n",
            "60 / 69\n",
            "65 / 69\n",
            "5 / 14\n",
            "10 / 14\n",
            "Accuracy of the model on test images: 97.81859931113662%\n",
            "Epoch: 6 \tTraining Loss: 498.285231 \tValidation Loss: 55.849170\n",
            "5 / 69\n",
            "10 / 69\n",
            "15 / 69\n",
            "20 / 69\n",
            "25 / 69\n",
            "30 / 69\n",
            "35 / 69\n",
            "40 / 69\n",
            "45 / 69\n",
            "50 / 69\n",
            "55 / 69\n",
            "60 / 69\n",
            "65 / 69\n",
            "5 / 14\n",
            "10 / 14\n",
            "Accuracy of the model on test images: 98.62227324913891%\n",
            "Epoch: 7 \tTraining Loss: 506.962044 \tValidation Loss: 45.502568\n",
            "5 / 69\n",
            "10 / 69\n",
            "15 / 69\n",
            "20 / 69\n",
            "25 / 69\n",
            "30 / 69\n",
            "35 / 69\n",
            "40 / 69\n",
            "45 / 69\n",
            "50 / 69\n",
            "55 / 69\n",
            "60 / 69\n",
            "65 / 69\n",
            "5 / 14\n",
            "10 / 14\n",
            "Accuracy of the model on test images: 97.81859931113662%\n",
            "Epoch: 8 \tTraining Loss: 513.778578 \tValidation Loss: 58.683694\n",
            "5 / 69\n",
            "10 / 69\n",
            "15 / 69\n",
            "20 / 69\n",
            "25 / 69\n",
            "30 / 69\n",
            "35 / 69\n",
            "40 / 69\n",
            "45 / 69\n",
            "50 / 69\n",
            "55 / 69\n",
            "60 / 69\n",
            "65 / 69\n",
            "5 / 14\n",
            "10 / 14\n",
            "Accuracy of the model on test images: 97.70378874856486%\n",
            "Epoch: 9 \tTraining Loss: 498.592797 \tValidation Loss: 67.167305\n",
            "5 / 69\n",
            "10 / 69\n",
            "15 / 69\n",
            "20 / 69\n",
            "25 / 69\n",
            "30 / 69\n",
            "35 / 69\n",
            "40 / 69\n",
            "45 / 69\n",
            "50 / 69\n",
            "55 / 69\n",
            "60 / 69\n",
            "65 / 69\n",
            "5 / 14\n",
            "10 / 14\n",
            "Accuracy of the model on test images: 98.3926521239954%\n",
            "Epoch: 10 \tTraining Loss: 375.052516 \tValidation Loss: 43.813524\n",
            "5 / 69\n",
            "10 / 69\n",
            "15 / 69\n",
            "20 / 69\n",
            "25 / 69\n",
            "30 / 69\n",
            "35 / 69\n",
            "40 / 69\n",
            "45 / 69\n",
            "50 / 69\n",
            "55 / 69\n",
            "60 / 69\n",
            "65 / 69\n",
            "5 / 14\n",
            "10 / 14\n",
            "Accuracy of the model on test images: 97.81859931113662%\n",
            "Epoch: 11 \tTraining Loss: 361.227157 \tValidation Loss: 68.766749\n",
            "5 / 69\n",
            "10 / 69\n",
            "15 / 69\n",
            "20 / 69\n",
            "25 / 69\n",
            "30 / 69\n",
            "35 / 69\n",
            "40 / 69\n",
            "45 / 69\n",
            "50 / 69\n",
            "55 / 69\n",
            "60 / 69\n",
            "65 / 69\n",
            "5 / 14\n",
            "10 / 14\n",
            "Accuracy of the model on test images: 99.08151549942595%\n",
            "Epoch: 12 \tTraining Loss: 280.559278 \tValidation Loss: 37.151074\n",
            "5 / 69\n",
            "10 / 69\n",
            "15 / 69\n",
            "20 / 69\n",
            "25 / 69\n",
            "30 / 69\n",
            "35 / 69\n",
            "40 / 69\n",
            "45 / 69\n",
            "50 / 69\n",
            "55 / 69\n",
            "60 / 69\n",
            "65 / 69\n",
            "5 / 14\n",
            "10 / 14\n",
            "Accuracy of the model on test images: 97.93340987370838%\n",
            "Epoch: 13 \tTraining Loss: 361.025019 \tValidation Loss: 88.662668\n",
            "5 / 69\n",
            "10 / 69\n",
            "15 / 69\n",
            "20 / 69\n",
            "25 / 69\n",
            "30 / 69\n",
            "35 / 69\n",
            "40 / 69\n",
            "45 / 69\n",
            "50 / 69\n",
            "55 / 69\n",
            "60 / 69\n",
            "65 / 69\n",
            "5 / 14\n",
            "10 / 14\n",
            "Accuracy of the model on test images: 98.1630309988519%\n",
            "Epoch: 14 \tTraining Loss: 286.935092 \tValidation Loss: 55.050484\n",
            "5 / 69\n",
            "10 / 69\n",
            "15 / 69\n",
            "20 / 69\n",
            "25 / 69\n",
            "30 / 69\n",
            "35 / 69\n",
            "40 / 69\n",
            "45 / 69\n",
            "50 / 69\n",
            "55 / 69\n",
            "60 / 69\n",
            "65 / 69\n",
            "5 / 14\n",
            "10 / 14\n",
            "Accuracy of the model on test images: 98.85189437428244%\n",
            "Epoch: 15 \tTraining Loss: 386.338416 \tValidation Loss: 40.303904\n",
            "5 / 69\n",
            "10 / 69\n",
            "15 / 69\n",
            "20 / 69\n",
            "25 / 69\n",
            "30 / 69\n",
            "35 / 69\n",
            "40 / 69\n",
            "45 / 69\n",
            "50 / 69\n",
            "55 / 69\n",
            "60 / 69\n",
            "65 / 69\n",
            "5 / 14\n",
            "10 / 14\n",
            "Accuracy of the model on test images: 98.50746268656717%\n",
            "Epoch: 16 \tTraining Loss: 348.174827 \tValidation Loss: 76.959633\n",
            "5 / 69\n",
            "10 / 69\n",
            "15 / 69\n",
            "20 / 69\n",
            "25 / 69\n",
            "30 / 69\n",
            "35 / 69\n",
            "40 / 69\n",
            "45 / 69\n",
            "50 / 69\n",
            "55 / 69\n",
            "60 / 69\n",
            "65 / 69\n",
            "5 / 14\n",
            "10 / 14\n",
            "Accuracy of the model on test images: 98.62227324913891%\n",
            "Epoch: 17 \tTraining Loss: 375.574102 \tValidation Loss: 37.639805\n",
            "5 / 69\n",
            "10 / 69\n",
            "15 / 69\n",
            "20 / 69\n",
            "25 / 69\n",
            "30 / 69\n",
            "35 / 69\n",
            "40 / 69\n",
            "45 / 69\n",
            "50 / 69\n",
            "55 / 69\n",
            "60 / 69\n",
            "65 / 69\n",
            "5 / 14\n",
            "10 / 14\n",
            "Accuracy of the model on test images: 97.93340987370838%\n",
            "Epoch: 18 \tTraining Loss: 272.920956 \tValidation Loss: 94.919267\n",
            "5 / 69\n",
            "10 / 69\n",
            "15 / 69\n",
            "20 / 69\n",
            "25 / 69\n",
            "30 / 69\n",
            "35 / 69\n",
            "40 / 69\n",
            "45 / 69\n",
            "50 / 69\n",
            "55 / 69\n",
            "60 / 69\n",
            "65 / 69\n",
            "5 / 14\n",
            "10 / 14\n",
            "Accuracy of the model on test images: 98.85189437428244%\n",
            "Epoch: 19 \tTraining Loss: 220.118286 \tValidation Loss: 50.868276\n"
          ],
          "name": "stdout"
        }
      ]
    },
    {
      "cell_type": "code",
      "metadata": {
        "id": "gGLm3GVyl0KM",
        "colab_type": "code",
        "colab": {}
      },
      "source": [
        "torch.save({\n",
        "    'epoch' : num_epochs,\n",
        "    'model_state_dict' : model.state_dict(),\n",
        "    'optimizer_state_dict' : optimizer.state_dict(),\n",
        "    'train_loss' : train_loss,\n",
        "    'val_loss' : val_loss,\n",
        "    'accuracy' : accuracy \n",
        "}, 'Model_checkpoints/mobileNetV2_checkpoint(Un98.9).pth')"
      ],
      "execution_count": 0,
      "outputs": []
    },
    {
      "cell_type": "code",
      "metadata": {
        "id": "My0WCMyWdzOu",
        "colab_type": "code",
        "colab": {
          "base_uri": "https://localhost:8080/",
          "height": 70
        },
        "outputId": "de8cf820-5be2-4c2d-9407-d1e641ba2883"
      },
      "source": [
        "from sklearn.metrics import confusion_matrix\n",
        "import seaborn as sns\n",
        "import matplotlib.pyplot as plt"
      ],
      "execution_count": 69,
      "outputs": [
        {
          "output_type": "stream",
          "text": [
            "/usr/local/lib/python3.6/dist-packages/statsmodels/tools/_testing.py:19: FutureWarning: pandas.util.testing is deprecated. Use the functions in the public API at pandas.testing instead.\n",
            "  import pandas.util.testing as tm\n"
          ],
          "name": "stderr"
        }
      ]
    },
    {
      "cell_type": "code",
      "metadata": {
        "id": "gEDGG2CikF_r",
        "colab_type": "code",
        "colab": {
          "base_uri": "https://localhost:8080/",
          "height": 104
        },
        "outputId": "80a61d92-1035-4cfb-eb84-33c45469ad69"
      },
      "source": [
        "model.eval()\n",
        "counter = 0\n",
        "valLoss = 0\n",
        "Ypred = torch.tensor([])\n",
        "with torch.no_grad():\n",
        "  total = 0\n",
        "  correct = 0\n",
        "  for inputs, labels in val_loader:\n",
        "    inputs = inputs.to(device)\n",
        "    labels = labels.to(device)  \n",
        "\n",
        "    output = model.forward(inputs)\n",
        "\n",
        "    valloss = criterion(output, labels)\n",
        "\n",
        "    valLoss += valloss.item()*inputs.size(0)\n",
        "\n",
        "    _, predicted = torch.max(output.data, 1)\n",
        "    pred = torch.tensor(predicted, dtype=torch.float)\n",
        "    Ypred = torch.cat((Ypred ,pred), dim=0)\n",
        "    # print(predicted)\n",
        "\n",
        "    total += labels.size(0)\n",
        "    correct += (predicted == labels).sum().item()\n",
        "\n",
        "    counter += 1\n",
        "    if(counter % 5 == 0):\n",
        "      print(counter, \"/\", len(val_loader))\n",
        "\n",
        "print(\"Accuracy of the model on test images: {}%\".format(100*correct/total))"
      ],
      "execution_count": 79,
      "outputs": [
        {
          "output_type": "stream",
          "text": [
            "/usr/local/lib/python3.6/dist-packages/ipykernel_launcher.py:19: UserWarning: To copy construct from a tensor, it is recommended to use sourceTensor.clone().detach() or sourceTensor.clone().detach().requires_grad_(True), rather than torch.tensor(sourceTensor).\n"
          ],
          "name": "stderr"
        },
        {
          "output_type": "stream",
          "text": [
            "5 / 14\n",
            "10 / 14\n",
            "Accuracy of the model on test images: 98.85189437428244%\n"
          ],
          "name": "stdout"
        }
      ]
    },
    {
      "cell_type": "code",
      "metadata": {
        "id": "K7fXwE6TlVQB",
        "colab_type": "code",
        "colab": {
          "base_uri": "https://localhost:8080/",
          "height": 168
        },
        "outputId": "c2b46f0c-ab4f-4aba-af83-9a1becc1ac0c"
      },
      "source": [
        "cm = confusion_matrix(val_set.targets, Ypred)\n",
        "cm"
      ],
      "execution_count": 80,
      "outputs": [
        {
          "output_type": "execute_result",
          "data": {
            "text/plain": [
              "array([[ 67,   0,   1,   0,   0,   0,   0,   0,   0],\n",
              "       [  0, 123,   0,   0,   0,   0,   0,   0,   1],\n",
              "       [  0,   0,  75,   0,   0,   0,   0,   0,   0],\n",
              "       [  0,   0,   1,  98,   0,   0,   0,   0,   0],\n",
              "       [  0,   1,   0,   1,  21,   0,   0,   0,   0],\n",
              "       [  0,   0,   0,   0,   0,  72,   0,   0,   0],\n",
              "       [  0,   0,   0,   0,   0,   0, 107,   0,   0],\n",
              "       [  0,   0,   0,   0,   0,   0,   0, 179,   0],\n",
              "       [  1,   0,   2,   0,   0,   1,   0,   1, 119]])"
            ]
          },
          "metadata": {
            "tags": []
          },
          "execution_count": 80
        }
      ]
    },
    {
      "cell_type": "code",
      "metadata": {
        "id": "ntZMZ0vpmv1l",
        "colab_type": "code",
        "colab": {
          "base_uri": "https://localhost:8080/",
          "height": 609
        },
        "outputId": "efdbd8c9-ccf7-451f-a39a-bec62e7a2bc8"
      },
      "source": [
        "plt.figure(figsize=(10, 10))\n",
        "sns.heatmap(cm, annot=True, linewidths=0.05, fmt='.2f', xticklabels=train_set.classes, yticklabels=train_set.classes)\n"
      ],
      "execution_count": 90,
      "outputs": [
        {
          "output_type": "execute_result",
          "data": {
            "text/plain": [
              "<matplotlib.axes._subplots.AxesSubplot at 0x7f04521a6da0>"
            ]
          },
          "metadata": {
            "tags": []
          },
          "execution_count": 90
        },
        {
          "output_type": "display_data",
          "data": {
            "image/png": "[encoded data removed]",
            "text/plain": [
              "<Figure size 720x720 with 2 Axes>"
            ]
          },
          "metadata": {
            "tags": [],
            "needs_background": "light"
          }
        }
      ]
    },
    {
      "cell_type": "code",
      "metadata": {
        "id": "1sOQ-_N7vTMw",
        "colab_type": "code",
        "colab": {
          "base_uri": "https://localhost:8080/",
          "height": 87
        },
        "outputId": "1f59d74a-9b90-4d1f-e54e-046360497718"
      },
      "source": [
        "model.eval()\n",
        "counter = 0\n",
        "testLoss = 0\n",
        "Ypred = torch.tensor([])\n",
        "with torch.no_grad():\n",
        "  total = 0\n",
        "  correct = 0\n",
        "  for inputs, labels in testloader:\n",
        "    inputs = inputs.to(device)\n",
        "    labels = labels.to(device)  \n",
        "\n",
        "    output = model.forward(inputs)\n",
        "\n",
        "    testloss = criterion(output, labels)\n",
        "\n",
        "    testLoss += valloss.item()*inputs.size(0)\n",
        "\n",
        "    _, predicted = torch.max(output.data, 1)\n",
        "    pred = torch.tensor(predicted, dtype=torch.float)\n",
        "    Ypred = torch.cat((Ypred ,pred), dim=0)\n",
        "    # print(predicted)\n",
        "\n",
        "    total += labels.size(0)\n",
        "    correct += (predicted == labels).sum().item()\n",
        "\n",
        "    counter += 1\n",
        "    if(counter % 5 == 0):\n",
        "      print(counter, \"/\", len(testloader))\n",
        "\n",
        "print(\"Accuracy of the model on test images: {}%\".format(100*correct/total))"
      ],
      "execution_count": 95,
      "outputs": [
        {
          "output_type": "stream",
          "text": [
            "/usr/local/lib/python3.6/dist-packages/ipykernel_launcher.py:19: UserWarning: To copy construct from a tensor, it is recommended to use sourceTensor.clone().detach() or sourceTensor.clone().detach().requires_grad_(True), rather than torch.tensor(sourceTensor).\n"
          ],
          "name": "stderr"
        },
        {
          "output_type": "stream",
          "text": [
            "5 / 5\n",
            "Accuracy of the model on test images: 71.42857142857143%\n"
          ],
          "name": "stdout"
        }
      ]
    },
    {
      "cell_type": "code",
      "metadata": {
        "colab_type": "code",
        "outputId": "7e79cec0-8a07-49a5-cb8b-6fd9e229db93",
        "id": "X0ipzSIKvaXO",
        "colab": {
          "base_uri": "https://localhost:8080/",
          "height": 168
        }
      },
      "source": [
        "cm = confusion_matrix(test_set.targets, Ypred)\n",
        "cm"
      ],
      "execution_count": 92,
      "outputs": [
        {
          "output_type": "execute_result",
          "data": {
            "text/plain": [
              "array([[35,  3,  2,  0,  0,  1,  1,  0, 15],\n",
              "       [ 0, 28,  0,  1,  0,  2,  5,  3, 23],\n",
              "       [ 1,  0,  9,  0,  0,  0,  0,  0,  0],\n",
              "       [ 0,  1,  1, 39,  0,  0,  0,  0,  2],\n",
              "       [ 0,  1,  0,  0,  4,  0,  0,  0,  0],\n",
              "       [ 0,  0,  0,  0,  0, 24,  0,  0,  0],\n",
              "       [ 0,  1,  0,  0,  0,  1, 38,  1,  1],\n",
              "       [ 0,  0,  0,  0,  0,  0,  1, 20,  1],\n",
              "       [ 4,  3,  3,  6,  0,  0,  0,  0, 13]])"
            ]
          },
          "metadata": {
            "tags": []
          },
          "execution_count": 92
        }
      ]
    },
    {
      "cell_type": "code",
      "metadata": {
        "colab_type": "code",
        "outputId": "38e75383-cdad-430d-95ec-76bed261836a",
        "id": "tWJhOVB2vaXa",
        "colab": {
          "base_uri": "https://localhost:8080/",
          "height": 609
        }
      },
      "source": [
        "plt.figure(figsize=(10, 10))\n",
        "sns.heatmap(cm, annot=True, linewidths=0.05, fmt='.2f', xticklabels=train_set.classes, yticklabels=train_set.classes)\n"
      ],
      "execution_count": 93,
      "outputs": [
        {
          "output_type": "execute_result",
          "data": {
            "text/plain": [
              "<matplotlib.axes._subplots.AxesSubplot at 0x7f04523ac9e8>"
            ]
          },
          "metadata": {
            "tags": []
          },
          "execution_count": 93
        },
        {
          "output_type": "display_data",
          "data": {
            "image/png": "[encoded data removed]",
            "text/plain": [
              "<Figure size 720x720 with 2 Axes>"
            ]
          },
          "metadata": {
            "tags": [],
            "needs_background": "light"
          }
        }
      ]
    },
    {
      "cell_type": "code",
      "metadata": {
        "colab_type": "code",
        "id": "GJ8mrFHzp-OZ",
        "colab": {}
      },
      "source": [
        "criterion = nn.NLLLoss()\n",
        "optimizer = optim.Adam(model.parameters())\n",
        "num_epochs = 13"
      ],
      "execution_count": 0,
      "outputs": []
    },
    {
      "cell_type": "code",
      "metadata": {
        "colab_type": "code",
        "id": "5hJUeB9kp-Op",
        "colab": {}
      },
      "source": [
        "checkpoint = torch.load('Model_checkpoints/mobileNetV2_checkpoint(Un98.9).pth')"
      ],
      "execution_count": 0,
      "outputs": []
    },
    {
      "cell_type": "code",
      "metadata": {
        "colab_type": "code",
        "outputId": "3f9b96a0-083c-433a-aede-e202c3bb5253",
        "id": "ybr0ah2Dp-O1",
        "colab": {
          "base_uri": "https://localhost:8080/",
          "height": 34
        }
      },
      "source": [
        "model.load_state_dict(checkpoint['model_state_dict'])"
      ],
      "execution_count": 115,
      "outputs": [
        {
          "output_type": "execute_result",
          "data": {
            "text/plain": [
              "<All keys matched successfully>"
            ]
          },
          "metadata": {
            "tags": []
          },
          "execution_count": 115
        }
      ]
    },
    {
      "cell_type": "code",
      "metadata": {
        "colab_type": "code",
        "id": "0Ahb9IsAp-PB",
        "colab": {}
      },
      "source": [
        "optimizer.load_state_dict(checkpoint['optimizer_state_dict'])"
      ],
      "execution_count": 0,
      "outputs": []
    },
    {
      "cell_type": "code",
      "metadata": {
        "colab_type": "code",
        "id": "3o5hHDNsp-PJ",
        "colab": {}
      },
      "source": [
        "train_loss = checkpoint['train_loss']\n",
        "val_loss = checkpoint['val_loss']\n",
        "accuracy = checkpoint['accuracy']"
      ],
      "execution_count": 0,
      "outputs": []
    },
    {
      "cell_type": "code",
      "metadata": {
        "colab_type": "code",
        "outputId": "e0a2766e-50dc-4fbe-8908-113709b8fae7",
        "id": "3gOhHI6Vp-PS",
        "colab": {
          "base_uri": "https://localhost:8080/",
          "height": 34
        }
      },
      "source": [
        "start_epoch = checkpoint['epoch']\n",
        "start_epoch"
      ],
      "execution_count": 118,
      "outputs": [
        {
          "output_type": "execute_result",
          "data": {
            "text/plain": [
              "20"
            ]
          },
          "metadata": {
            "tags": []
          },
          "execution_count": 118
        }
      ]
    },
    {
      "cell_type": "code",
      "metadata": {
        "colab_type": "code",
        "id": "qaAuAsK0p-Pb",
        "colab": {}
      },
      "source": [
        "for i in range(14, 19):\n",
        "  for param in model.features[i].parameters():\n",
        "    param.requires_grad = True"
      ],
      "execution_count": 0,
      "outputs": []
    },
    {
      "cell_type": "code",
      "metadata": {
        "colab_type": "code",
        "id": "h_SCSM9yp-Pk",
        "colab": {}
      },
      "source": [
        "for param in model.classifier.parameters():\n",
        "  param.requires_grad = True"
      ],
      "execution_count": 0,
      "outputs": []
    },
    {
      "cell_type": "code",
      "metadata": {
        "colab_type": "code",
        "outputId": "3f8c6653-56f4-402e-ce5e-71814dd10fbf",
        "id": "YrJAh5tkp-Pv",
        "colab": {
          "base_uri": "https://localhost:8080/",
          "height": 1000
        }
      },
      "source": [
        "model = model.to(device)\n",
        "num_epochs = 10\n",
        "best_model_wts = copy.deepcopy(model.state_dict())\n",
        "best_acc = 0.0\n",
        "\n",
        "for epoch in range(num_epochs):\n",
        "  \n",
        "  #Training model\n",
        "  model.train()\n",
        "  counter = 0\n",
        "  trainLoss = 0\n",
        "  for inputs, labels in trainloader:\n",
        "    inputs = inputs.to(device)\n",
        "    labels = labels.to(device)\n",
        "\n",
        "    optimizer.zero_grad()\n",
        "\n",
        "    output = model.forward(inputs)\n",
        "\n",
        "    loss = criterion(output, labels)\n",
        "\n",
        "    loss.backward()\n",
        "\n",
        "    optimizer.step()\n",
        "\n",
        "    trainLoss += loss.item()*inputs.size(0)\n",
        "\n",
        "    #printing progress of training\n",
        "    counter += 1\n",
        "    if(counter % 5 == 0):\n",
        "      print(counter, \"/\", len(trainloader))  \n",
        "\n",
        "  #Evaluating Model\n",
        "  model.eval()\n",
        "  counter = 0\n",
        "  valLoss = 0\n",
        "  with torch.no_grad():\n",
        "    total = 0\n",
        "    correct = 0\n",
        "    for inputs, labels in val_loader:\n",
        "      inputs = inputs.to(device)\n",
        "      labels = labels.to(device)  \n",
        "\n",
        "      output = model.forward(inputs)\n",
        "\n",
        "      valloss = criterion(output, labels)\n",
        "\n",
        "      valLoss += valloss.item()*inputs.size(0)\n",
        "\n",
        "      _, predicted = torch.max(output.data, 1)\n",
        "\n",
        "      total += labels.size(0)\n",
        "      correct += (predicted == labels).sum().item()\n",
        "\n",
        "      counter += 1\n",
        "      if(counter % 5 == 0):\n",
        "        print(counter, \"/\", len(val_loader))\n",
        "\n",
        "    train_loss.append(trainLoss/len(trainloader.dataset))\n",
        "    val_loss.append(valLoss/len(val_loader.dataset))\n",
        "    curr_acc = 100*correct/total\n",
        "    if(curr_acc > best_acc):\n",
        "      best_acc = curr_acc\n",
        "      best_model_wts = copy.deepcopy(model.state_dict())\n",
        "    accuracy.append(100*correct/total)\n",
        "    # Print out the information\n",
        "    print(\"Accuracy of the model on test images: {}%\".format(100*correct/total))\n",
        "    print('Epoch: {} \\tTraining Loss: {:.6f} \\tValidation Loss: {:.6f}'.format(epoch, trainLoss, valLoss))      "
      ],
      "execution_count": 121,
      "outputs": [
        {
          "output_type": "stream",
          "text": [
            "5 / 69\n",
            "10 / 69\n",
            "15 / 69\n",
            "20 / 69\n",
            "25 / 69\n",
            "30 / 69\n",
            "35 / 69\n",
            "40 / 69\n",
            "45 / 69\n",
            "50 / 69\n",
            "55 / 69\n",
            "60 / 69\n",
            "65 / 69\n",
            "5 / 14\n",
            "10 / 14\n",
            "Accuracy of the model on test images: 98.85189437428244%\n",
            "Epoch: 0 \tTraining Loss: 299.066766 \tValidation Loss: 36.897436\n",
            "5 / 69\n",
            "10 / 69\n",
            "15 / 69\n",
            "20 / 69\n",
            "25 / 69\n",
            "30 / 69\n",
            "35 / 69\n",
            "40 / 69\n",
            "45 / 69\n",
            "50 / 69\n",
            "55 / 69\n",
            "60 / 69\n",
            "65 / 69\n",
            "5 / 14\n",
            "10 / 14\n",
            "Accuracy of the model on test images: 98.85189437428244%\n",
            "Epoch: 1 \tTraining Loss: 232.928950 \tValidation Loss: 35.522646\n",
            "5 / 69\n",
            "10 / 69\n",
            "15 / 69\n",
            "20 / 69\n",
            "25 / 69\n",
            "30 / 69\n",
            "35 / 69\n",
            "40 / 69\n",
            "45 / 69\n",
            "50 / 69\n",
            "55 / 69\n",
            "60 / 69\n",
            "65 / 69\n",
            "5 / 14\n",
            "10 / 14\n",
            "Accuracy of the model on test images: 98.27784156142366%\n",
            "Epoch: 2 \tTraining Loss: 250.656119 \tValidation Loss: 60.095220\n",
            "5 / 69\n",
            "10 / 69\n",
            "15 / 69\n",
            "20 / 69\n",
            "25 / 69\n",
            "30 / 69\n",
            "35 / 69\n",
            "40 / 69\n",
            "45 / 69\n",
            "50 / 69\n",
            "55 / 69\n",
            "60 / 69\n",
            "65 / 69\n",
            "5 / 14\n",
            "10 / 14\n",
            "Accuracy of the model on test images: 97.70378874856486%\n",
            "Epoch: 3 \tTraining Loss: 323.414412 \tValidation Loss: 69.781541\n",
            "5 / 69\n",
            "10 / 69\n",
            "15 / 69\n",
            "20 / 69\n",
            "25 / 69\n",
            "30 / 69\n",
            "35 / 69\n",
            "40 / 69\n",
            "45 / 69\n",
            "50 / 69\n",
            "55 / 69\n",
            "60 / 69\n",
            "65 / 69\n",
            "5 / 14\n",
            "10 / 14\n",
            "Accuracy of the model on test images: 98.3926521239954%\n",
            "Epoch: 4 \tTraining Loss: 238.454763 \tValidation Loss: 50.106829\n",
            "5 / 69\n",
            "10 / 69\n",
            "15 / 69\n",
            "20 / 69\n",
            "25 / 69\n",
            "30 / 69\n",
            "35 / 69\n",
            "40 / 69\n",
            "45 / 69\n",
            "50 / 69\n",
            "55 / 69\n",
            "60 / 69\n",
            "65 / 69\n",
            "5 / 14\n",
            "10 / 14\n",
            "Accuracy of the model on test images: 98.96670493685419%\n",
            "Epoch: 5 \tTraining Loss: 357.190339 \tValidation Loss: 30.688358\n",
            "5 / 69\n",
            "10 / 69\n",
            "15 / 69\n",
            "20 / 69\n",
            "25 / 69\n",
            "30 / 69\n",
            "35 / 69\n",
            "40 / 69\n",
            "45 / 69\n",
            "50 / 69\n",
            "55 / 69\n",
            "60 / 69\n",
            "65 / 69\n",
            "5 / 14\n",
            "10 / 14\n",
            "Accuracy of the model on test images: 98.85189437428244%\n",
            "Epoch: 6 \tTraining Loss: 282.965982 \tValidation Loss: 22.351585\n",
            "5 / 69\n",
            "10 / 69\n",
            "15 / 69\n",
            "20 / 69\n",
            "25 / 69\n",
            "30 / 69\n",
            "35 / 69\n",
            "40 / 69\n",
            "45 / 69\n",
            "50 / 69\n",
            "55 / 69\n",
            "60 / 69\n",
            "65 / 69\n",
            "5 / 14\n",
            "10 / 14\n",
            "Accuracy of the model on test images: 98.3926521239954%\n",
            "Epoch: 7 \tTraining Loss: 206.184835 \tValidation Loss: 43.292250\n",
            "5 / 69\n",
            "10 / 69\n",
            "15 / 69\n",
            "20 / 69\n",
            "25 / 69\n",
            "30 / 69\n",
            "35 / 69\n",
            "40 / 69\n",
            "45 / 69\n",
            "50 / 69\n",
            "55 / 69\n",
            "60 / 69\n",
            "65 / 69\n",
            "5 / 14\n",
            "10 / 14\n",
            "Accuracy of the model on test images: 98.62227324913891%\n",
            "Epoch: 8 \tTraining Loss: 210.491708 \tValidation Loss: 32.348322\n",
            "5 / 69\n",
            "10 / 69\n",
            "15 / 69\n",
            "20 / 69\n",
            "25 / 69\n",
            "30 / 69\n",
            "35 / 69\n",
            "40 / 69\n",
            "45 / 69\n",
            "50 / 69\n",
            "55 / 69\n",
            "60 / 69\n",
            "65 / 69\n",
            "5 / 14\n",
            "10 / 14\n",
            "Accuracy of the model on test images: 98.04822043628013%\n",
            "Epoch: 9 \tTraining Loss: 213.723104 \tValidation Loss: 68.597280\n"
          ],
          "name": "stdout"
        }
      ]
    },
    {
      "cell_type": "code",
      "metadata": {
        "id": "_jKO_jW22Sbp",
        "colab_type": "code",
        "colab": {
          "base_uri": "https://localhost:8080/",
          "height": 34
        },
        "outputId": "d2538529-3049-4df8-c875-6cc4c3e09cb8"
      },
      "source": [
        "best_acc"
      ],
      "execution_count": 122,
      "outputs": [
        {
          "output_type": "execute_result",
          "data": {
            "text/plain": [
              "98.96670493685419"
            ]
          },
          "metadata": {
            "tags": []
          },
          "execution_count": 122
        }
      ]
    },
    {
      "cell_type": "code",
      "metadata": {
        "id": "KuM5019vxYsD",
        "colab_type": "code",
        "colab": {
          "base_uri": "https://localhost:8080/",
          "height": 34
        },
        "outputId": "848ccb3a-060b-4c0a-b501-5918172233d9"
      },
      "source": [
        "model.load_state_dict(best_model_wts)"
      ],
      "execution_count": 123,
      "outputs": [
        {
          "output_type": "execute_result",
          "data": {
            "text/plain": [
              "<All keys matched successfully>"
            ]
          },
          "metadata": {
            "tags": []
          },
          "execution_count": 123
        }
      ]
    },
    {
      "cell_type": "code",
      "metadata": {
        "id": "hq_vRina2kzV",
        "colab_type": "code",
        "colab": {
          "base_uri": "https://localhost:8080/",
          "height": 104
        },
        "outputId": "710d1098-e3a9-4394-c0c1-9f96b5760e53"
      },
      "source": [
        "model.eval()\n",
        "counter = 0\n",
        "valLoss = 0\n",
        "Ypred = torch.tensor([])\n",
        "with torch.no_grad():\n",
        "  total = 0\n",
        "  correct = 0\n",
        "  for inputs, labels in val_loader:\n",
        "    inputs = inputs.to(device)\n",
        "    labels = labels.to(device)  \n",
        "\n",
        "    output = model.forward(inputs)\n",
        "\n",
        "    valloss = criterion(output, labels)\n",
        "\n",
        "    valLoss += valloss.item()*inputs.size(0)\n",
        "\n",
        "    _, predicted = torch.max(output.data, 1)\n",
        "    pred = torch.tensor(predicted, dtype=torch.float)\n",
        "    Ypred = torch.cat((Ypred ,pred), dim=0)\n",
        "    # print(predicted)\n",
        "\n",
        "    total += labels.size(0)\n",
        "    correct += (predicted == labels).sum().item()\n",
        "\n",
        "    counter += 1\n",
        "    if(counter % 5 == 0):\n",
        "      print(counter, \"/\", len(val_loader))\n",
        "\n",
        "print(\"Accuracy of the model on test images: {}%\".format(100*correct/total))"
      ],
      "execution_count": 124,
      "outputs": [
        {
          "output_type": "stream",
          "text": [
            "/usr/local/lib/python3.6/dist-packages/ipykernel_launcher.py:19: UserWarning: To copy construct from a tensor, it is recommended to use sourceTensor.clone().detach() or sourceTensor.clone().detach().requires_grad_(True), rather than torch.tensor(sourceTensor).\n"
          ],
          "name": "stderr"
        },
        {
          "output_type": "stream",
          "text": [
            "5 / 14\n",
            "10 / 14\n",
            "Accuracy of the model on test images: 98.96670493685419%\n"
          ],
          "name": "stdout"
        }
      ]
    },
    {
      "cell_type": "code",
      "metadata": {
        "id": "FDOC91IN2twd",
        "colab_type": "code",
        "colab": {}
      },
      "source": [
        "torch.save({\n",
        "    'epoch' : num_epochs,\n",
        "    'model_state_dict' : best_model_wts,\n",
        "    'optimizer_state_dict' : optimizer.state_dict(),\n",
        "    'train_loss' : train_loss,\n",
        "    'val_loss' : val_loss,\n",
        "    'accuracy' : accuracy \n",
        "}, 'Model_checkpoints/mobileNetV2_checkpoint(Un99.6).pth')"
      ],
      "execution_count": 0,
      "outputs": []
    },
    {
      "cell_type": "code",
      "metadata": {
        "id": "XrbmRnQ55rYV",
        "colab_type": "code",
        "colab": {
          "base_uri": "https://localhost:8080/",
          "height": 87
        },
        "outputId": "fd2c7558-a374-4bfb-cb70-fb2c33c2f5de"
      },
      "source": [
        "model.eval()\n",
        "counter = 0\n",
        "testLoss = 0\n",
        "Ypred = torch.tensor([])\n",
        "with torch.no_grad():\n",
        "  total = 0\n",
        "  correct = 0\n",
        "  for inputs, labels in testloader:\n",
        "    inputs = inputs.to(device)\n",
        "    labels = labels.to(device)  \n",
        "\n",
        "    output = model.forward(inputs)\n",
        "\n",
        "    testloss = criterion(output, labels)\n",
        "\n",
        "    testLoss += valloss.item()*inputs.size(0)\n",
        "\n",
        "    _, predicted = torch.max(output.data, 1)\n",
        "    pred = torch.tensor(predicted, dtype=torch.float)\n",
        "    Ypred = torch.cat((Ypred ,pred), dim=0)\n",
        "    # print(predicted)\n",
        "\n",
        "    total += labels.size(0)\n",
        "    correct += (predicted == labels).sum().item()\n",
        "\n",
        "    counter += 1\n",
        "    if(counter % 5 == 0):\n",
        "      print(counter, \"/\", len(testloader))\n",
        "\n",
        "print(\"Accuracy of the model on test images: {}%\".format(100*correct/total))"
      ],
      "execution_count": 126,
      "outputs": [
        {
          "output_type": "stream",
          "text": [
            "/usr/local/lib/python3.6/dist-packages/ipykernel_launcher.py:19: UserWarning: To copy construct from a tensor, it is recommended to use sourceTensor.clone().detach() or sourceTensor.clone().detach().requires_grad_(True), rather than torch.tensor(sourceTensor).\n"
          ],
          "name": "stderr"
        },
        {
          "output_type": "stream",
          "text": [
            "5 / 5\n",
            "Accuracy of the model on test images: 67.68707482993197%\n"
          ],
          "name": "stdout"
        }
      ]
    }
  ]
}